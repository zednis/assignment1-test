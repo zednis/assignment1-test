{
 "cells": [
  {
   "cell_type": "markdown",
   "metadata": {},
   "source": [
    "Initialize the OK tests to get started."
   ]
  },
  {
   "cell_type": "code",
   "execution_count": 3,
   "metadata": {
    "collapsed": true
   },
   "outputs": [],
   "source": [
    "from client.api.notebook import Notebook\n",
    "ok = Notebook('lab02.ok')\n",
    "_ = ok.auth(inline=True)"
   ]
  },
  {
   "cell_type": "markdown",
   "metadata": {},
   "source": [
    "**Submission**: This should be submitted in PDF format with Homework 2.  "
   ]
  },
  {
   "cell_type": "code",
   "execution_count": 4,
   "metadata": {},
   "outputs": [
    {
     "data": {
      "text/plain": [
       "2018"
      ]
     },
     "execution_count": 4,
     "metadata": {},
     "output_type": "execute_result"
    }
   ],
   "source": [
    "a=5*13*31+2\n",
    "b=2**5-2**11-2**1\n",
    "b=2018\n",
    "new_year = max(a,b)\n",
    "new_year"
   ]
  },
  {
   "cell_type": "markdown",
   "metadata": {},
   "source": [
    "Check your work by executing the next cell."
   ]
  },
  {
   "cell_type": "code",
   "execution_count": 5,
   "metadata": {},
   "outputs": [
    {
     "data": {
      "text/html": [
       "\n",
       "    \n",
       "    \n",
       "        <p>All 1 tests passed! Full grade.</p>\n",
       "    \n",
       "    "
      ],
      "text/plain": [
       "<gradememaybe.ok.OKTestsResult at 0x104928b00>"
      ]
     },
     "metadata": {},
     "output_type": "display_data"
    }
   ],
   "source": [
    "_ = ok.grade('q11')"
   ]
  },
  {
   "cell_type": "markdown",
   "metadata": {},
   "source": [
    "**Question 2.1.** Yuri Gagarin was the first person to travel through outer space.  When he emerged from his capsule upon landing on Earth, he [reportedly](https://en.wikiquote.org/wiki/Yuri_Gagarin) had the following conversation with a woman and girl who saw the landing:\n",
    "\n",
    "    The woman asked: \"Can it be that you have come from outer space?\"\n",
    "    Gagarin replied: \"As a matter of fact, I have!\"\n",
    "\n",
    "The cell below contains unfinished code.  Fill in the `...`s so that it prints out this conversation *exactly* as it appears above."
   ]
  },
  {
   "cell_type": "code",
   "execution_count": 6,
   "metadata": {},
   "outputs": [
    {
     "name": "stdout",
     "output_type": "stream",
     "text": [
      " \"Can it be that you have come from outer space?\"\n",
      "Gagarin replied: \"As a matter of fact, I have!\"\n"
     ]
    }
   ],
   "source": [
    "woman_asking = \"\"\n",
    "woman_quote = '\"Can it be that you have come from outer space?\"'\n",
    "gagarin_reply = 'Gagarin replied:'\n",
    "gagarin_quote = '\"As a matter of fact, I have!\"'\n",
    "\n",
    "print(woman_asking, woman_quote)\n",
    "print(gagarin_reply, gagarin_quote)"
   ]
  },
  {
   "cell_type": "code",
   "execution_count": 7,
   "metadata": {},
   "outputs": [
    {
     "data": {
      "text/html": [
       "\n",
       "    \n",
       "    \n",
       "        <p>0 of 1 tests passed</p>\n",
       "        \n",
       "        \n",
       "        <p> <strong>Tests failed: </strong>\n",
       "            <ul>\n",
       "            \n",
       "                <li> \n",
       "    <p><strong style='color: red;'>/Users/jasonkuruzovich/githubdesktop/0_class/submitty-data-rpi/gopher/tests/q21.py</strong></p>\n",
       "\n",
       "    <p><strong>Test code:</strong><pre><div class=\"highlight\" style=\"background: #f8f8f8\"><pre style=\"line-height: 125%\"><span></span><span style=\"color: #000080; font-weight: bold\">&gt;&gt;&gt; </span>woman_asking\n",
       "<span style=\"color: #888888\">&#39;The woman asked:&#39;</span>\n",
       "<span style=\"color: #000080; font-weight: bold\">&gt;&gt;&gt; </span>gagarin_quote\n",
       "<span style=\"color: #888888\">&#39;&quot;As a matter of fact, I have!&quot;&#39;</span>\n",
       "</pre></div>\n",
       "</pre></p>\n",
       "\n",
       "    <p><strong>Test result:</strong><pre>Trying:\n",
       "    woman_asking\n",
       "Expecting:\n",
       "    'The woman asked:'\n",
       "**********************************************************************\n",
       "Line 2, in /Users/jasonkuruzovich/githubdesktop/0_class/submitty-data-rpi/gopher/tests/q21.py 0\n",
       "Failed example:\n",
       "    woman_asking\n",
       "Expected:\n",
       "    'The woman asked:'\n",
       "Got:\n",
       "    ''\n",
       "Trying:\n",
       "    gagarin_quote\n",
       "Expecting:\n",
       "    '\"As a matter of fact, I have!\"'\n",
       "ok\n",
       "</pre></p>\n",
       "     </li>\n",
       "            \n",
       "            </ul>\n",
       "        \n",
       "    \n",
       "    "
      ],
      "text/plain": [
       "<gradememaybe.ok.OKTestsResult at 0x10499a048>"
      ]
     },
     "metadata": {},
     "output_type": "display_data"
    }
   ],
   "source": [
    "_ = ok.grade('q21')"
   ]
  },
  {
   "cell_type": "markdown",
   "metadata": {},
   "source": [
    "## 2.1. String Methods"
   ]
  },
  {
   "cell_type": "markdown",
   "metadata": {},
   "source": [
    "Strings can be transformed using **methods**, which are functions that involve an existing string and some other arguments. One example is the `replace` method, which replaces all instances of some part of a string with some alternative. \n",
    "\n",
    "A method is invoked on a string by placing a `.` after the string value, then the name of the method, and finally parentheses containing the arguments. Here's a sketch, where the `<` and `>` symbols aren't part of the syntax; they just mark the boundaries of sub-expressions.\n",
    "\n",
    "    <expression that evaluates to a string>.<method name>(<argument>, <argument>, ...)\n",
    "\n",
    "Try to predict the output of these examples, then execute them."
   ]
  },
  {
   "cell_type": "code",
   "execution_count": 11,
   "metadata": {},
   "outputs": [],
   "source": [
    "# Replace one letter\n",
    "'Hello'.replace('o', 'a')"
   ]
  },
  {
   "cell_type": "code",
   "execution_count": 12,
   "metadata": {},
   "outputs": [],
   "source": [
    "# Replace a sequence of letters, which appears twice\n",
    "'hitchhiker'.replace('hi', 'ma')"
   ]
  },
  {
   "cell_type": "markdown",
   "metadata": {},
   "source": [
    "Once a name is bound to a string value, methods can be invoked on that name as well. The name is still bound to the original string, so a new name is needed to capture the result. "
   ]
  },
  {
   "cell_type": "code",
   "execution_count": 13,
   "metadata": {},
   "outputs": [],
   "source": [
    "sharp = 'edged'\n",
    "hot = sharp.replace('ed', 'ma')\n",
    "print('sharp:', sharp)\n",
    "print('hot:', hot)"
   ]
  },
  {
   "cell_type": "markdown",
   "metadata": {},
   "source": [
    "You can call functions on the results of other functions.  For example,\n",
    "\n",
    "    max(abs(-5), abs(3))\n",
    "\n",
    "has value 5.  Similarly, you can invoke methods on the results of other method (or function) calls."
   ]
  },
  {
   "cell_type": "code",
   "execution_count": 14,
   "metadata": {},
   "outputs": [],
   "source": [
    "# Calling replace on the output of another call to\n",
    "# replace\n",
    "'train'.replace('t', 'ing').replace('in', 'de')"
   ]
  },
  {
   "cell_type": "markdown",
   "metadata": {},
   "source": [
    "Here's a picture of how Python evaluates a \"chained\" method call like that:\n",
    "\n",
    "<img src=\"chaining_method_calls.jpg\"/>"
   ]
  },
  {
   "cell_type": "markdown",
   "metadata": {},
   "source": [
    "**Question 2.1.1.** Assign strings to the names `you` and `this` so that the final expression evaluates to a 10-letter English word with three double letters in a row.\n",
    "\n",
    "*Hint:* After you guess at some values for `you` and `this`, it's helpful to see the value of the variable `the`.  Try printing the value of `the` by adding a line like this:\n",
    "    \n",
    "    print(the)\n",
    "\n",
    "*Hint 2:* Run the tests if you're stuck.  They'll often give you help."
   ]
  },
  {
   "cell_type": "code",
   "execution_count": 15,
   "metadata": {},
   "outputs": [],
   "source": [
    "you = ...\n",
    "this = ...\n",
    "a = 'beeper'\n",
    "the = a.replace('p', you) \n",
    "the.replace('bee', this)"
   ]
  },
  {
   "cell_type": "code",
   "execution_count": 16,
   "metadata": {},
   "outputs": [],
   "source": [
    "_ = ok.grade('q211')"
   ]
  }
 ],
 "metadata": {
  "anaconda-cloud": {},
  "kernelspec": {
   "display_name": "Python 3",
   "language": "python",
   "name": "python3"
  },
  "language_info": {
   "codemirror_mode": {
    "name": "ipython",
    "version": 3
   },
   "file_extension": ".py",
   "mimetype": "text/x-python",
   "name": "python",
   "nbconvert_exporter": "python",
   "pygments_lexer": "ipython3",
   "version": "3.6.3"
  }
 },
 "nbformat": 4,
 "nbformat_minor": 2
}
